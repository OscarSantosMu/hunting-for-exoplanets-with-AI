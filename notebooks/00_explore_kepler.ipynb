version https://git-lfs.github.com/spec/v1
oid sha256:a4218e6e974b3ff813f5c19d443f6b89c89b44c2befd9e95edffd52f8704c6d3
size 326
